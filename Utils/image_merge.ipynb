{
 "cells": [
  {
   "cell_type": "code",
   "execution_count": 3,
   "id": "da62b7d3-3635-485e-9cdf-7f8d4073fc6f",
   "metadata": {},
   "outputs": [],
   "source": [
    "from PIL import Image\n",
    "\n",
    "image1 = Image.open('time.png')\n",
    "image2 = Image.open('time1.png')\n",
    "width1, height1 = image1.size\n",
    "width2, height2 = image2.size\n",
    "new_image = Image.new('RGB', (width1 + width2, max(height1, height2)))\n",
    "new_image.paste(image1, (0, 0))\n",
    "new_image.paste(image2, (width1, 0))\n",
    "new_image.save('time_merged.png')\n",
    "new_image.show()"
   ]
  },
  {
   "cell_type": "code",
   "execution_count": null,
   "id": "8f1fd224-96f7-4c82-9dee-f84ac89d8999",
   "metadata": {},
   "outputs": [],
   "source": []
  }
 ],
 "metadata": {
  "kernelspec": {
   "display_name": "Python 3 (ipykernel)",
   "language": "python",
   "name": "python3"
  },
  "language_info": {
   "codemirror_mode": {
    "name": "ipython",
    "version": 3
   },
   "file_extension": ".py",
   "mimetype": "text/x-python",
   "name": "python",
   "nbconvert_exporter": "python",
   "pygments_lexer": "ipython3",
   "version": "3.11.5"
  }
 },
 "nbformat": 4,
 "nbformat_minor": 5
}
